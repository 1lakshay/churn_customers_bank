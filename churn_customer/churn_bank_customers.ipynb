{
 "cells": [
  {
   "cell_type": "code",
   "execution_count": 1,
   "id": "655e50f3",
   "metadata": {},
   "outputs": [],
   "source": [
    "import pandas as pd \n",
    "import numpy as np "
   ]
  },
  {
   "cell_type": "code",
   "execution_count": 2,
   "id": "9735bf04",
   "metadata": {},
   "outputs": [],
   "source": [
    "data = pd.read_csv(\"Churn_Modelling.csv\")"
   ]
  },
  {
   "cell_type": "code",
   "execution_count": 19,
   "id": "01808826",
   "metadata": {},
   "outputs": [
    {
     "data": {
      "text/html": [
       "<div>\n",
       "<style scoped>\n",
       "    .dataframe tbody tr th:only-of-type {\n",
       "        vertical-align: middle;\n",
       "    }\n",
       "\n",
       "    .dataframe tbody tr th {\n",
       "        vertical-align: top;\n",
       "    }\n",
       "\n",
       "    .dataframe thead th {\n",
       "        text-align: right;\n",
       "    }\n",
       "</style>\n",
       "<table border=\"1\" class=\"dataframe\">\n",
       "  <thead>\n",
       "    <tr style=\"text-align: right;\">\n",
       "      <th></th>\n",
       "      <th>RowNumber</th>\n",
       "      <th>CustomerId</th>\n",
       "      <th>Surname</th>\n",
       "      <th>CreditScore</th>\n",
       "      <th>Geography</th>\n",
       "      <th>Gender</th>\n",
       "      <th>Age</th>\n",
       "      <th>Tenure</th>\n",
       "      <th>Balance</th>\n",
       "      <th>NumOfProducts</th>\n",
       "      <th>HasCrCard</th>\n",
       "      <th>IsActiveMember</th>\n",
       "      <th>EstimatedSalary</th>\n",
       "      <th>Exited</th>\n",
       "    </tr>\n",
       "  </thead>\n",
       "  <tbody>\n",
       "    <tr>\n",
       "      <th>0</th>\n",
       "      <td>1</td>\n",
       "      <td>15634602</td>\n",
       "      <td>Hargrave</td>\n",
       "      <td>619</td>\n",
       "      <td>France</td>\n",
       "      <td>Female</td>\n",
       "      <td>42</td>\n",
       "      <td>2</td>\n",
       "      <td>0.00</td>\n",
       "      <td>1</td>\n",
       "      <td>1</td>\n",
       "      <td>1</td>\n",
       "      <td>101348.88</td>\n",
       "      <td>1</td>\n",
       "    </tr>\n",
       "    <tr>\n",
       "      <th>1</th>\n",
       "      <td>2</td>\n",
       "      <td>15647311</td>\n",
       "      <td>Hill</td>\n",
       "      <td>608</td>\n",
       "      <td>Spain</td>\n",
       "      <td>Female</td>\n",
       "      <td>41</td>\n",
       "      <td>1</td>\n",
       "      <td>83807.86</td>\n",
       "      <td>1</td>\n",
       "      <td>0</td>\n",
       "      <td>1</td>\n",
       "      <td>112542.58</td>\n",
       "      <td>0</td>\n",
       "    </tr>\n",
       "    <tr>\n",
       "      <th>2</th>\n",
       "      <td>3</td>\n",
       "      <td>15619304</td>\n",
       "      <td>Onio</td>\n",
       "      <td>502</td>\n",
       "      <td>France</td>\n",
       "      <td>Female</td>\n",
       "      <td>42</td>\n",
       "      <td>8</td>\n",
       "      <td>159660.80</td>\n",
       "      <td>3</td>\n",
       "      <td>1</td>\n",
       "      <td>0</td>\n",
       "      <td>113931.57</td>\n",
       "      <td>1</td>\n",
       "    </tr>\n",
       "    <tr>\n",
       "      <th>3</th>\n",
       "      <td>4</td>\n",
       "      <td>15701354</td>\n",
       "      <td>Boni</td>\n",
       "      <td>699</td>\n",
       "      <td>France</td>\n",
       "      <td>Female</td>\n",
       "      <td>39</td>\n",
       "      <td>1</td>\n",
       "      <td>0.00</td>\n",
       "      <td>2</td>\n",
       "      <td>0</td>\n",
       "      <td>0</td>\n",
       "      <td>93826.63</td>\n",
       "      <td>0</td>\n",
       "    </tr>\n",
       "    <tr>\n",
       "      <th>4</th>\n",
       "      <td>5</td>\n",
       "      <td>15737888</td>\n",
       "      <td>Mitchell</td>\n",
       "      <td>850</td>\n",
       "      <td>Spain</td>\n",
       "      <td>Female</td>\n",
       "      <td>43</td>\n",
       "      <td>2</td>\n",
       "      <td>125510.82</td>\n",
       "      <td>1</td>\n",
       "      <td>1</td>\n",
       "      <td>1</td>\n",
       "      <td>79084.10</td>\n",
       "      <td>0</td>\n",
       "    </tr>\n",
       "    <tr>\n",
       "      <th>...</th>\n",
       "      <td>...</td>\n",
       "      <td>...</td>\n",
       "      <td>...</td>\n",
       "      <td>...</td>\n",
       "      <td>...</td>\n",
       "      <td>...</td>\n",
       "      <td>...</td>\n",
       "      <td>...</td>\n",
       "      <td>...</td>\n",
       "      <td>...</td>\n",
       "      <td>...</td>\n",
       "      <td>...</td>\n",
       "      <td>...</td>\n",
       "      <td>...</td>\n",
       "    </tr>\n",
       "    <tr>\n",
       "      <th>9995</th>\n",
       "      <td>9996</td>\n",
       "      <td>15606229</td>\n",
       "      <td>Obijiaku</td>\n",
       "      <td>771</td>\n",
       "      <td>France</td>\n",
       "      <td>Male</td>\n",
       "      <td>39</td>\n",
       "      <td>5</td>\n",
       "      <td>0.00</td>\n",
       "      <td>2</td>\n",
       "      <td>1</td>\n",
       "      <td>0</td>\n",
       "      <td>96270.64</td>\n",
       "      <td>0</td>\n",
       "    </tr>\n",
       "    <tr>\n",
       "      <th>9996</th>\n",
       "      <td>9997</td>\n",
       "      <td>15569892</td>\n",
       "      <td>Johnstone</td>\n",
       "      <td>516</td>\n",
       "      <td>France</td>\n",
       "      <td>Male</td>\n",
       "      <td>35</td>\n",
       "      <td>10</td>\n",
       "      <td>57369.61</td>\n",
       "      <td>1</td>\n",
       "      <td>1</td>\n",
       "      <td>1</td>\n",
       "      <td>101699.77</td>\n",
       "      <td>0</td>\n",
       "    </tr>\n",
       "    <tr>\n",
       "      <th>9997</th>\n",
       "      <td>9998</td>\n",
       "      <td>15584532</td>\n",
       "      <td>Liu</td>\n",
       "      <td>709</td>\n",
       "      <td>France</td>\n",
       "      <td>Female</td>\n",
       "      <td>36</td>\n",
       "      <td>7</td>\n",
       "      <td>0.00</td>\n",
       "      <td>1</td>\n",
       "      <td>0</td>\n",
       "      <td>1</td>\n",
       "      <td>42085.58</td>\n",
       "      <td>1</td>\n",
       "    </tr>\n",
       "    <tr>\n",
       "      <th>9998</th>\n",
       "      <td>9999</td>\n",
       "      <td>15682355</td>\n",
       "      <td>Sabbatini</td>\n",
       "      <td>772</td>\n",
       "      <td>Germany</td>\n",
       "      <td>Male</td>\n",
       "      <td>42</td>\n",
       "      <td>3</td>\n",
       "      <td>75075.31</td>\n",
       "      <td>2</td>\n",
       "      <td>1</td>\n",
       "      <td>0</td>\n",
       "      <td>92888.52</td>\n",
       "      <td>1</td>\n",
       "    </tr>\n",
       "    <tr>\n",
       "      <th>9999</th>\n",
       "      <td>10000</td>\n",
       "      <td>15628319</td>\n",
       "      <td>Walker</td>\n",
       "      <td>792</td>\n",
       "      <td>France</td>\n",
       "      <td>Female</td>\n",
       "      <td>28</td>\n",
       "      <td>4</td>\n",
       "      <td>130142.79</td>\n",
       "      <td>1</td>\n",
       "      <td>1</td>\n",
       "      <td>0</td>\n",
       "      <td>38190.78</td>\n",
       "      <td>0</td>\n",
       "    </tr>\n",
       "  </tbody>\n",
       "</table>\n",
       "<p>10000 rows × 14 columns</p>\n",
       "</div>"
      ],
      "text/plain": [
       "      RowNumber  CustomerId    Surname  CreditScore Geography  Gender  Age  \\\n",
       "0             1    15634602   Hargrave          619    France  Female   42   \n",
       "1             2    15647311       Hill          608     Spain  Female   41   \n",
       "2             3    15619304       Onio          502    France  Female   42   \n",
       "3             4    15701354       Boni          699    France  Female   39   \n",
       "4             5    15737888   Mitchell          850     Spain  Female   43   \n",
       "...         ...         ...        ...          ...       ...     ...  ...   \n",
       "9995       9996    15606229   Obijiaku          771    France    Male   39   \n",
       "9996       9997    15569892  Johnstone          516    France    Male   35   \n",
       "9997       9998    15584532        Liu          709    France  Female   36   \n",
       "9998       9999    15682355  Sabbatini          772   Germany    Male   42   \n",
       "9999      10000    15628319     Walker          792    France  Female   28   \n",
       "\n",
       "      Tenure    Balance  NumOfProducts  HasCrCard  IsActiveMember  \\\n",
       "0          2       0.00              1          1               1   \n",
       "1          1   83807.86              1          0               1   \n",
       "2          8  159660.80              3          1               0   \n",
       "3          1       0.00              2          0               0   \n",
       "4          2  125510.82              1          1               1   \n",
       "...      ...        ...            ...        ...             ...   \n",
       "9995       5       0.00              2          1               0   \n",
       "9996      10   57369.61              1          1               1   \n",
       "9997       7       0.00              1          0               1   \n",
       "9998       3   75075.31              2          1               0   \n",
       "9999       4  130142.79              1          1               0   \n",
       "\n",
       "      EstimatedSalary  Exited  \n",
       "0           101348.88       1  \n",
       "1           112542.58       0  \n",
       "2           113931.57       1  \n",
       "3            93826.63       0  \n",
       "4            79084.10       0  \n",
       "...               ...     ...  \n",
       "9995         96270.64       0  \n",
       "9996        101699.77       0  \n",
       "9997         42085.58       1  \n",
       "9998         92888.52       1  \n",
       "9999         38190.78       0  \n",
       "\n",
       "[10000 rows x 14 columns]"
      ]
     },
     "execution_count": 19,
     "metadata": {},
     "output_type": "execute_result"
    }
   ],
   "source": [
    "data"
   ]
  },
  {
   "cell_type": "code",
   "execution_count": 4,
   "id": "6703b283",
   "metadata": {},
   "outputs": [],
   "source": [
    "X = data.iloc[:,3:-1].values    # ignoring the feature as: RowNumber, CustomerId, Surname \n",
    "y = data.iloc[:,-1].values"
   ]
  },
  {
   "cell_type": "code",
   "execution_count": 11,
   "id": "b9ac5918",
   "metadata": {},
   "outputs": [
    {
     "name": "stdout",
     "output_type": "stream",
     "text": [
      "(10000, 10)\n",
      "(10000,)\n"
     ]
    }
   ],
   "source": [
    "print(X.shape)\n",
    "print(y.shape)"
   ]
  },
  {
   "cell_type": "code",
   "execution_count": 14,
   "id": "a5e56236",
   "metadata": {},
   "outputs": [],
   "source": [
    "# Handling the object data type feacture values \n",
    "# feature - Gender \n",
    "from sklearn.preprocessing import LabelEncoder "
   ]
  },
  {
   "cell_type": "code",
   "execution_count": 16,
   "id": "9f4dfa22",
   "metadata": {},
   "outputs": [],
   "source": [
    "label = LabelEncoder()\n",
    "X[:,2] = label.fit_transform(X[:,2])"
   ]
  },
  {
   "cell_type": "code",
   "execution_count": 17,
   "id": "4fe30afd",
   "metadata": {},
   "outputs": [
    {
     "name": "stdout",
     "output_type": "stream",
     "text": [
      "[0 0 0 ... 0 1 0]\n"
     ]
    }
   ],
   "source": [
    "print(X[:,2])"
   ]
  },
  {
   "cell_type": "code",
   "execution_count": 20,
   "id": "08f9f65f",
   "metadata": {},
   "outputs": [],
   "source": [
    "from sklearn.compose import ColumnTransformer\n",
    "from sklearn.preprocessing import OneHotEncoder "
   ]
  },
  {
   "cell_type": "code",
   "execution_count": 25,
   "id": "e41cb82b",
   "metadata": {},
   "outputs": [],
   "source": [
    "ct = ColumnTransformer([('encoding',OneHotEncoder(),[1])],remainder='passthrough')\n",
    "X = np.array(ct.fit_transform(X))"
   ]
  },
  {
   "cell_type": "code",
   "execution_count": 28,
   "id": "f8a751f6",
   "metadata": {},
   "outputs": [],
   "source": [
    "# feature standardization \n",
    "from sklearn.model_selection import train_test_split"
   ]
  },
  {
   "cell_type": "code",
   "execution_count": 29,
   "id": "fe4b31df",
   "metadata": {},
   "outputs": [],
   "source": [
    "X_train,X_test,y_train,y_test = train_test_split(X,y,test_size=0.2,random_state=0)"
   ]
  },
  {
   "cell_type": "code",
   "execution_count": 30,
   "id": "0418a853",
   "metadata": {},
   "outputs": [
    {
     "name": "stdout",
     "output_type": "stream",
     "text": [
      "(8000, 14)\n",
      "(2000, 14)\n",
      "(8000,)\n",
      "(2000,)\n"
     ]
    }
   ],
   "source": [
    "print(X_train.shape)\n",
    "print(X_test.shape)\n",
    "print(y_train.shape)\n",
    "print(y_test.shape)"
   ]
  },
  {
   "cell_type": "code",
   "execution_count": 32,
   "id": "7e4229c2",
   "metadata": {},
   "outputs": [
    {
     "name": "stdout",
     "output_type": "stream",
     "text": [
      "[[1.0 0.0 1.0 ... 1 0 163830.64]\n",
      " [0.0 1.0 0.0 ... 1 1 57098.0]\n",
      " [1.0 0.0 1.0 ... 1 0 185630.76]\n",
      " ...\n",
      " [1.0 0.0 1.0 ... 1 0 181429.87]\n",
      " [1.0 0.0 1.0 ... 1 1 148750.16]\n",
      " [0.0 1.0 0.0 ... 1 0 118855.26]]\n"
     ]
    }
   ],
   "source": [
    "print(X_train)"
   ]
  },
  {
   "cell_type": "code",
   "execution_count": 33,
   "id": "6cb3a2b9",
   "metadata": {},
   "outputs": [
    {
     "name": "stdout",
     "output_type": "stream",
     "text": [
      "[[0.0 1.0 0.0 ... 1 1 192852.67]\n",
      " [1.0 0.0 1.0 ... 1 0 128702.1]\n",
      " [1.0 0.0 1.0 ... 1 1 75732.25]\n",
      " ...\n",
      " [1.0 0.0 1.0 ... 1 0 141533.19]\n",
      " [0.0 1.0 0.0 ... 1 1 11276.48]\n",
      " [0.0 1.0 0.0 ... 1 0 192950.6]]\n"
     ]
    }
   ],
   "source": [
    "print(X_test)"
   ]
  },
  {
   "cell_type": "code",
   "execution_count": 39,
   "id": "4b1b05ce",
   "metadata": {},
   "outputs": [],
   "source": [
    "from sklearn.preprocessing import StandardScaler"
   ]
  },
  {
   "cell_type": "code",
   "execution_count": 40,
   "id": "a1577e81",
   "metadata": {},
   "outputs": [],
   "source": [
    "sc = StandardScaler()"
   ]
  },
  {
   "cell_type": "code",
   "execution_count": 41,
   "id": "4e46b166",
   "metadata": {},
   "outputs": [],
   "source": [
    "X_train = sc.fit_transform(X_train)\n",
    "X_test = sc.transform(X_test)"
   ]
  },
  {
   "cell_type": "code",
   "execution_count": 42,
   "id": "1aa237d4",
   "metadata": {},
   "outputs": [
    {
     "name": "stdout",
     "output_type": "stream",
     "text": [
      "[[ 0.5698444  -0.5698444   0.5698444  ...  0.64259497 -1.03227043\n",
      "   1.10643166]\n",
      " [-1.75486502  1.75486502 -1.75486502 ...  0.64259497  0.9687384\n",
      "  -0.74866447]\n",
      " [ 0.5698444  -0.5698444   0.5698444  ...  0.64259497 -1.03227043\n",
      "   1.48533467]\n",
      " ...\n",
      " [ 0.5698444  -0.5698444   0.5698444  ...  0.64259497 -1.03227043\n",
      "   1.41231994]\n",
      " [ 0.5698444  -0.5698444   0.5698444  ...  0.64259497  0.9687384\n",
      "   0.84432121]\n",
      " [-1.75486502  1.75486502 -1.75486502 ...  0.64259497 -1.03227043\n",
      "   0.32472465]]\n"
     ]
    }
   ],
   "source": [
    "print(X_train)"
   ]
  },
  {
   "cell_type": "code",
   "execution_count": 43,
   "id": "ef44133c",
   "metadata": {},
   "outputs": [
    {
     "name": "stdout",
     "output_type": "stream",
     "text": [
      "[[-1.75486502  1.75486502 -1.75486502 ...  0.64259497  0.9687384\n",
      "   1.61085707]\n",
      " [ 0.5698444  -0.5698444   0.5698444  ...  0.64259497 -1.03227043\n",
      "   0.49587037]\n",
      " [ 0.5698444  -0.5698444   0.5698444  ...  0.64259497  0.9687384\n",
      "  -0.42478674]\n",
      " ...\n",
      " [ 0.5698444  -0.5698444   0.5698444  ...  0.64259497 -1.03227043\n",
      "   0.71888467]\n",
      " [-1.75486502  1.75486502 -1.75486502 ...  0.64259497  0.9687384\n",
      "  -1.54507805]\n",
      " [-1.75486502  1.75486502 -1.75486502 ...  0.64259497 -1.03227043\n",
      "   1.61255917]]\n"
     ]
    }
   ],
   "source": [
    "print(X_test)"
   ]
  },
  {
   "cell_type": "code",
   "execution_count": 45,
   "id": "b6cc4111",
   "metadata": {},
   "outputs": [],
   "source": [
    "import tensorflow as tf "
   ]
  },
  {
   "cell_type": "code",
   "execution_count": 88,
   "id": "f5df10ab",
   "metadata": {},
   "outputs": [],
   "source": [
    "ann = tf.keras.models.Sequential()  # instance for tf & Input layer "
   ]
  },
  {
   "cell_type": "code",
   "execution_count": 89,
   "id": "8eed8ff2",
   "metadata": {},
   "outputs": [],
   "source": [
    "ann.add(tf.keras.layers.Dense(units = 6, activation = 'relu'))  # adding first hidden layer "
   ]
  },
  {
   "cell_type": "code",
   "execution_count": 90,
   "id": "a9e27b81",
   "metadata": {},
   "outputs": [],
   "source": [
    "ann.add(tf.keras.layers.Dense(units = 6, activation = 'relu'))  # adding second hidden layer "
   ]
  },
  {
   "cell_type": "code",
   "execution_count": 91,
   "id": "5aae77fa",
   "metadata": {},
   "outputs": [],
   "source": [
    "ann.add(tf.keras.layers.Dense(units = 1, activation = 'sigmoid'))  # adding output layer "
   ]
  },
  {
   "cell_type": "code",
   "execution_count": 92,
   "id": "8168b19e",
   "metadata": {},
   "outputs": [],
   "source": [
    "# Till here only architecture of the ANN is made "
   ]
  },
  {
   "cell_type": "code",
   "execution_count": 93,
   "id": "c97227cc",
   "metadata": {},
   "outputs": [],
   "source": [
    "ann.compile(optimizer='adam',loss='binary_crossentropy',metrics=['accuracy'])  # binding all the layers with each other "
   ]
  },
  {
   "cell_type": "code",
   "execution_count": 94,
   "id": "925e860d",
   "metadata": {},
   "outputs": [
    {
     "name": "stdout",
     "output_type": "stream",
     "text": [
      "Epoch 1/150\n",
      "250/250 [==============================] - 2s 3ms/step - loss: 0.6348 - accuracy: 0.6651\n",
      "Epoch 2/150\n",
      "250/250 [==============================] - 1s 3ms/step - loss: 0.4792 - accuracy: 0.8018\n",
      "Epoch 3/150\n",
      "250/250 [==============================] - 1s 3ms/step - loss: 0.4428 - accuracy: 0.8104\n",
      "Epoch 4/150\n",
      "250/250 [==============================] - 1s 3ms/step - loss: 0.4252 - accuracy: 0.8174\n",
      "Epoch 5/150\n",
      "250/250 [==============================] - 1s 3ms/step - loss: 0.4120 - accuracy: 0.8226\n",
      "Epoch 6/150\n",
      "250/250 [==============================] - 1s 3ms/step - loss: 0.3988 - accuracy: 0.8291\n",
      "Epoch 7/150\n",
      "250/250 [==============================] - 1s 3ms/step - loss: 0.3857 - accuracy: 0.8403\n",
      "Epoch 8/150\n",
      "250/250 [==============================] - 1s 3ms/step - loss: 0.3752 - accuracy: 0.8464\n",
      "Epoch 9/150\n",
      "250/250 [==============================] - 1s 4ms/step - loss: 0.3690 - accuracy: 0.8490\n",
      "Epoch 10/150\n",
      "250/250 [==============================] - 1s 5ms/step - loss: 0.3644 - accuracy: 0.8506\n",
      "Epoch 11/150\n",
      "250/250 [==============================] - 1s 6ms/step - loss: 0.3613 - accuracy: 0.8522\n",
      "Epoch 12/150\n",
      "250/250 [==============================] - 2s 7ms/step - loss: 0.3584 - accuracy: 0.8537\n",
      "Epoch 13/150\n",
      "250/250 [==============================] - 2s 7ms/step - loss: 0.3555 - accuracy: 0.8555\n",
      "Epoch 14/150\n",
      "250/250 [==============================] - 2s 9ms/step - loss: 0.3539 - accuracy: 0.8540\n",
      "Epoch 15/150\n",
      "250/250 [==============================] - 2s 9ms/step - loss: 0.3522 - accuracy: 0.8572\n",
      "Epoch 16/150\n",
      "250/250 [==============================] - 1s 4ms/step - loss: 0.3509 - accuracy: 0.8576\n",
      "Epoch 17/150\n",
      "250/250 [==============================] - 1s 6ms/step - loss: 0.3497 - accuracy: 0.8575\n",
      "Epoch 18/150\n",
      "250/250 [==============================] - 1s 6ms/step - loss: 0.3485 - accuracy: 0.8593\n",
      "Epoch 19/150\n",
      "250/250 [==============================] - 1s 5ms/step - loss: 0.3478 - accuracy: 0.8581\n",
      "Epoch 20/150\n",
      "250/250 [==============================] - 1s 4ms/step - loss: 0.3472 - accuracy: 0.8596\n",
      "Epoch 21/150\n",
      "250/250 [==============================] - 2s 6ms/step - loss: 0.3464 - accuracy: 0.8593\n",
      "Epoch 22/150\n",
      "250/250 [==============================] - 2s 6ms/step - loss: 0.3458 - accuracy: 0.8597\n",
      "Epoch 23/150\n",
      "250/250 [==============================] - 2s 6ms/step - loss: 0.3451 - accuracy: 0.8595\n",
      "Epoch 24/150\n",
      "250/250 [==============================] - 1s 4ms/step - loss: 0.3452 - accuracy: 0.8596\n",
      "Epoch 25/150\n",
      "250/250 [==============================] - 2s 7ms/step - loss: 0.3446 - accuracy: 0.8591\n",
      "Epoch 26/150\n",
      "250/250 [==============================] - 1s 5ms/step - loss: 0.3444 - accuracy: 0.8595\n",
      "Epoch 27/150\n",
      "250/250 [==============================] - 2s 6ms/step - loss: 0.3443 - accuracy: 0.8597\n",
      "Epoch 28/150\n",
      "250/250 [==============================] - 1s 3ms/step - loss: 0.3437 - accuracy: 0.8594\n",
      "Epoch 29/150\n",
      "250/250 [==============================] - 1s 4ms/step - loss: 0.3433 - accuracy: 0.8602\n",
      "Epoch 30/150\n",
      "250/250 [==============================] - 1s 3ms/step - loss: 0.3428 - accuracy: 0.8614\n",
      "Epoch 31/150\n",
      "250/250 [==============================] - 1s 3ms/step - loss: 0.3428 - accuracy: 0.8615\n",
      "Epoch 32/150\n",
      "250/250 [==============================] - 1s 3ms/step - loss: 0.3424 - accuracy: 0.8605\n",
      "Epoch 33/150\n",
      "250/250 [==============================] - 1s 3ms/step - loss: 0.3417 - accuracy: 0.8610\n",
      "Epoch 34/150\n",
      "250/250 [==============================] - 1s 3ms/step - loss: 0.3419 - accuracy: 0.8608\n",
      "Epoch 35/150\n",
      "250/250 [==============================] - 1s 3ms/step - loss: 0.3414 - accuracy: 0.8630\n",
      "Epoch 36/150\n",
      "250/250 [==============================] - 1s 2ms/step - loss: 0.3411 - accuracy: 0.8605\n",
      "Epoch 37/150\n",
      "250/250 [==============================] - 1s 2ms/step - loss: 0.3408 - accuracy: 0.8620\n",
      "Epoch 38/150\n",
      "250/250 [==============================] - 1s 2ms/step - loss: 0.3406 - accuracy: 0.8608\n",
      "Epoch 39/150\n",
      "250/250 [==============================] - 1s 2ms/step - loss: 0.3401 - accuracy: 0.8615\n",
      "Epoch 40/150\n",
      "250/250 [==============================] - 1s 4ms/step - loss: 0.3399 - accuracy: 0.8621\n",
      "Epoch 41/150\n",
      "250/250 [==============================] - 2s 8ms/step - loss: 0.3396 - accuracy: 0.8604\n",
      "Epoch 42/150\n",
      "250/250 [==============================] - 2s 7ms/step - loss: 0.3396 - accuracy: 0.8612\n",
      "Epoch 43/150\n",
      "250/250 [==============================] - 2s 9ms/step - loss: 0.3397 - accuracy: 0.8605\n",
      "Epoch 44/150\n",
      "250/250 [==============================] - 3s 10ms/step - loss: 0.3395 - accuracy: 0.8615\n",
      "Epoch 45/150\n",
      "250/250 [==============================] - 2s 7ms/step - loss: 0.3393 - accuracy: 0.8630\n",
      "Epoch 46/150\n",
      "250/250 [==============================] - 1s 5ms/step - loss: 0.3389 - accuracy: 0.8627\n",
      "Epoch 47/150\n",
      "250/250 [==============================] - 1s 5ms/step - loss: 0.3391 - accuracy: 0.8608\n",
      "Epoch 48/150\n",
      "250/250 [==============================] - 1s 5ms/step - loss: 0.3387 - accuracy: 0.8611\n",
      "Epoch 49/150\n",
      "250/250 [==============================] - 1s 5ms/step - loss: 0.3385 - accuracy: 0.8640\n",
      "Epoch 50/150\n",
      "250/250 [==============================] - 1s 4ms/step - loss: 0.3384 - accuracy: 0.8611\n",
      "Epoch 51/150\n",
      "250/250 [==============================] - 1s 4ms/step - loss: 0.3387 - accuracy: 0.8639\n",
      "Epoch 52/150\n",
      "250/250 [==============================] - 1s 4ms/step - loss: 0.3382 - accuracy: 0.8626\n",
      "Epoch 53/150\n",
      "250/250 [==============================] - 1s 5ms/step - loss: 0.3383 - accuracy: 0.8626\n",
      "Epoch 54/150\n",
      "250/250 [==============================] - 1s 4ms/step - loss: 0.3378 - accuracy: 0.8633\n",
      "Epoch 55/150\n",
      "250/250 [==============================] - 1s 4ms/step - loss: 0.3375 - accuracy: 0.8621\n",
      "Epoch 56/150\n",
      "250/250 [==============================] - 1s 4ms/step - loss: 0.3377 - accuracy: 0.8621\n",
      "Epoch 57/150\n",
      "250/250 [==============================] - 1s 4ms/step - loss: 0.3374 - accuracy: 0.8619\n",
      "Epoch 58/150\n",
      "250/250 [==============================] - 1s 4ms/step - loss: 0.3373 - accuracy: 0.8619\n",
      "Epoch 59/150\n",
      "250/250 [==============================] - 1s 4ms/step - loss: 0.3378 - accuracy: 0.8609\n",
      "Epoch 60/150\n",
      "250/250 [==============================] - 1s 4ms/step - loss: 0.3378 - accuracy: 0.8618\n",
      "Epoch 61/150\n",
      "250/250 [==============================] - 1s 4ms/step - loss: 0.3375 - accuracy: 0.8624\n",
      "Epoch 62/150\n",
      "250/250 [==============================] - 1s 4ms/step - loss: 0.3373 - accuracy: 0.8616\n",
      "Epoch 63/150\n",
      "250/250 [==============================] - 1s 4ms/step - loss: 0.3372 - accuracy: 0.8634\n",
      "Epoch 64/150\n",
      "250/250 [==============================] - 1s 3ms/step - loss: 0.3366 - accuracy: 0.8648\n",
      "Epoch 65/150\n",
      "250/250 [==============================] - 1s 4ms/step - loss: 0.3367 - accuracy: 0.8633\n",
      "Epoch 66/150\n",
      "250/250 [==============================] - 1s 4ms/step - loss: 0.3374 - accuracy: 0.8618\n",
      "Epoch 67/150\n",
      "250/250 [==============================] - 1s 4ms/step - loss: 0.3369 - accuracy: 0.8629\n",
      "Epoch 68/150\n",
      "250/250 [==============================] - 1s 4ms/step - loss: 0.3371 - accuracy: 0.8643\n",
      "Epoch 69/150\n",
      "250/250 [==============================] - 1s 4ms/step - loss: 0.3367 - accuracy: 0.8627\n",
      "Epoch 70/150\n",
      "250/250 [==============================] - 1s 4ms/step - loss: 0.3367 - accuracy: 0.8625\n",
      "Epoch 71/150\n",
      "250/250 [==============================] - 1s 4ms/step - loss: 0.3363 - accuracy: 0.8618\n",
      "Epoch 72/150\n",
      "250/250 [==============================] - 1s 5ms/step - loss: 0.3369 - accuracy: 0.8634\n",
      "Epoch 73/150\n",
      "250/250 [==============================] - 1s 3ms/step - loss: 0.3366 - accuracy: 0.8631\n",
      "Epoch 74/150\n",
      "250/250 [==============================] - 1s 4ms/step - loss: 0.3369 - accuracy: 0.8629\n",
      "Epoch 75/150\n",
      "250/250 [==============================] - 1s 5ms/step - loss: 0.3362 - accuracy: 0.8615\n",
      "Epoch 76/150\n",
      "250/250 [==============================] - 1s 4ms/step - loss: 0.3366 - accuracy: 0.8622\n",
      "Epoch 77/150\n",
      "250/250 [==============================] - 1s 5ms/step - loss: 0.3367 - accuracy: 0.8620\n",
      "Epoch 78/150\n",
      "250/250 [==============================] - 1s 4ms/step - loss: 0.3363 - accuracy: 0.8631\n",
      "Epoch 79/150\n",
      "250/250 [==============================] - 1s 6ms/step - loss: 0.3363 - accuracy: 0.8620\n",
      "Epoch 80/150\n",
      "250/250 [==============================] - 1s 4ms/step - loss: 0.3358 - accuracy: 0.8627\n",
      "Epoch 81/150\n"
     ]
    },
    {
     "name": "stdout",
     "output_type": "stream",
     "text": [
      "250/250 [==============================] - 1s 4ms/step - loss: 0.3359 - accuracy: 0.8630\n",
      "Epoch 82/150\n",
      "250/250 [==============================] - 1s 4ms/step - loss: 0.3361 - accuracy: 0.8616\n",
      "Epoch 83/150\n",
      "250/250 [==============================] - 1s 4ms/step - loss: 0.3359 - accuracy: 0.8612\n",
      "Epoch 84/150\n",
      "250/250 [==============================] - 1s 5ms/step - loss: 0.3362 - accuracy: 0.8612\n",
      "Epoch 85/150\n",
      "250/250 [==============================] - 1s 5ms/step - loss: 0.3359 - accuracy: 0.8624\n",
      "Epoch 86/150\n",
      "250/250 [==============================] - 1s 4ms/step - loss: 0.3360 - accuracy: 0.8620\n",
      "Epoch 87/150\n",
      "250/250 [==============================] - 1s 4ms/step - loss: 0.3360 - accuracy: 0.8621\n",
      "Epoch 88/150\n",
      "250/250 [==============================] - 1s 3ms/step - loss: 0.3357 - accuracy: 0.8626\n",
      "Epoch 89/150\n",
      "250/250 [==============================] - 1s 3ms/step - loss: 0.3359 - accuracy: 0.8622\n",
      "Epoch 90/150\n",
      "250/250 [==============================] - 1s 3ms/step - loss: 0.3358 - accuracy: 0.8621\n",
      "Epoch 91/150\n",
      "250/250 [==============================] - 1s 4ms/step - loss: 0.3357 - accuracy: 0.8616\n",
      "Epoch 92/150\n",
      "250/250 [==============================] - 1s 3ms/step - loss: 0.3354 - accuracy: 0.8637\n",
      "Epoch 93/150\n",
      "250/250 [==============================] - 1s 3ms/step - loss: 0.3358 - accuracy: 0.8614\n",
      "Epoch 94/150\n",
      "250/250 [==============================] - 1s 4ms/step - loss: 0.3355 - accuracy: 0.8612\n",
      "Epoch 95/150\n",
      "250/250 [==============================] - 1s 3ms/step - loss: 0.3352 - accuracy: 0.8621\n",
      "Epoch 96/150\n",
      "250/250 [==============================] - 1s 5ms/step - loss: 0.3352 - accuracy: 0.8631\n",
      "Epoch 97/150\n",
      "250/250 [==============================] - 2s 7ms/step - loss: 0.3354 - accuracy: 0.8608\n",
      "Epoch 98/150\n",
      "250/250 [==============================] - 1s 5ms/step - loss: 0.3350 - accuracy: 0.8615\n",
      "Epoch 99/150\n",
      "250/250 [==============================] - 1s 5ms/step - loss: 0.3353 - accuracy: 0.8610\n",
      "Epoch 100/150\n",
      "250/250 [==============================] - 1s 4ms/step - loss: 0.3354 - accuracy: 0.8629\n",
      "Epoch 101/150\n",
      "250/250 [==============================] - 1s 3ms/step - loss: 0.3349 - accuracy: 0.8608\n",
      "Epoch 102/150\n",
      "250/250 [==============================] - 1s 3ms/step - loss: 0.3351 - accuracy: 0.8627\n",
      "Epoch 103/150\n",
      "250/250 [==============================] - 1s 3ms/step - loss: 0.3351 - accuracy: 0.8629\n",
      "Epoch 104/150\n",
      "250/250 [==============================] - 1s 3ms/step - loss: 0.3352 - accuracy: 0.8635\n",
      "Epoch 105/150\n",
      "250/250 [==============================] - 1s 4ms/step - loss: 0.3351 - accuracy: 0.8636\n",
      "Epoch 106/150\n",
      "250/250 [==============================] - 1s 3ms/step - loss: 0.3353 - accuracy: 0.8621\n",
      "Epoch 107/150\n",
      "250/250 [==============================] - 1s 3ms/step - loss: 0.3351 - accuracy: 0.8627\n",
      "Epoch 108/150\n",
      "250/250 [==============================] - 1s 3ms/step - loss: 0.3349 - accuracy: 0.8621\n",
      "Epoch 109/150\n",
      "250/250 [==============================] - 1s 3ms/step - loss: 0.3345 - accuracy: 0.8629\n",
      "Epoch 110/150\n",
      "250/250 [==============================] - 1s 3ms/step - loss: 0.3351 - accuracy: 0.8614\n",
      "Epoch 111/150\n",
      "250/250 [==============================] - 1s 3ms/step - loss: 0.3349 - accuracy: 0.8644\n",
      "Epoch 112/150\n",
      "250/250 [==============================] - 1s 3ms/step - loss: 0.3344 - accuracy: 0.8641\n",
      "Epoch 113/150\n",
      "250/250 [==============================] - 1s 3ms/step - loss: 0.3344 - accuracy: 0.8626\n",
      "Epoch 114/150\n",
      "250/250 [==============================] - 1s 4ms/step - loss: 0.3341 - accuracy: 0.8620\n",
      "Epoch 115/150\n",
      "250/250 [==============================] - 2s 7ms/step - loss: 0.3344 - accuracy: 0.8629\n",
      "Epoch 116/150\n",
      "250/250 [==============================] - 1s 3ms/step - loss: 0.3343 - accuracy: 0.8635\n",
      "Epoch 117/150\n",
      "250/250 [==============================] - 1s 2ms/step - loss: 0.3346 - accuracy: 0.8636\n",
      "Epoch 118/150\n",
      "250/250 [==============================] - 1s 4ms/step - loss: 0.3341 - accuracy: 0.8629\n",
      "Epoch 119/150\n",
      "250/250 [==============================] - 1s 2ms/step - loss: 0.3341 - accuracy: 0.8627\n",
      "Epoch 120/150\n",
      "250/250 [==============================] - 1s 3ms/step - loss: 0.3344 - accuracy: 0.8619\n",
      "Epoch 121/150\n",
      "250/250 [==============================] - 1s 2ms/step - loss: 0.3345 - accuracy: 0.8648\n",
      "Epoch 122/150\n",
      "250/250 [==============================] - 1s 2ms/step - loss: 0.3341 - accuracy: 0.8624\n",
      "Epoch 123/150\n",
      "250/250 [==============================] - 1s 3ms/step - loss: 0.3343 - accuracy: 0.8630\n",
      "Epoch 124/150\n",
      "250/250 [==============================] - 1s 5ms/step - loss: 0.3340 - accuracy: 0.8654\n",
      "Epoch 125/150\n",
      "250/250 [==============================] - 1s 3ms/step - loss: 0.3334 - accuracy: 0.8650\n",
      "Epoch 126/150\n",
      "250/250 [==============================] - 1s 2ms/step - loss: 0.3345 - accuracy: 0.8634\n",
      "Epoch 127/150\n",
      "250/250 [==============================] - 1s 3ms/step - loss: 0.3337 - accuracy: 0.8622\n",
      "Epoch 128/150\n",
      "250/250 [==============================] - 1s 4ms/step - loss: 0.3338 - accuracy: 0.8635\n",
      "Epoch 129/150\n",
      "250/250 [==============================] - 1s 5ms/step - loss: 0.3343 - accuracy: 0.8641\n",
      "Epoch 130/150\n",
      "250/250 [==============================] - 1s 4ms/step - loss: 0.3340 - accuracy: 0.8644\n",
      "Epoch 131/150\n",
      "250/250 [==============================] - 1s 4ms/step - loss: 0.3337 - accuracy: 0.8643\n",
      "Epoch 132/150\n",
      "250/250 [==============================] - 1s 4ms/step - loss: 0.3338 - accuracy: 0.8633\n",
      "Epoch 133/150\n",
      "250/250 [==============================] - 1s 5ms/step - loss: 0.3343 - accuracy: 0.8621\n",
      "Epoch 134/150\n",
      "250/250 [==============================] - 1s 5ms/step - loss: 0.3340 - accuracy: 0.8633\n",
      "Epoch 135/150\n",
      "250/250 [==============================] - 1s 5ms/step - loss: 0.3337 - accuracy: 0.8671\n",
      "Epoch 136/150\n",
      "250/250 [==============================] - 1s 4ms/step - loss: 0.3337 - accuracy: 0.8640\n",
      "Epoch 137/150\n",
      "250/250 [==============================] - 1s 4ms/step - loss: 0.3335 - accuracy: 0.8631\n",
      "Epoch 138/150\n",
      "250/250 [==============================] - 1s 5ms/step - loss: 0.3337 - accuracy: 0.8639\n",
      "Epoch 139/150\n",
      "250/250 [==============================] - 1s 3ms/step - loss: 0.3334 - accuracy: 0.8615\n",
      "Epoch 140/150\n",
      "250/250 [==============================] - 1s 3ms/step - loss: 0.3337 - accuracy: 0.8636\n",
      "Epoch 141/150\n",
      "250/250 [==============================] - 1s 2ms/step - loss: 0.3332 - accuracy: 0.8651\n",
      "Epoch 142/150\n",
      "250/250 [==============================] - 1s 2ms/step - loss: 0.3339 - accuracy: 0.8618\n",
      "Epoch 143/150\n",
      "250/250 [==============================] - 1s 4ms/step - loss: 0.3337 - accuracy: 0.8622\n",
      "Epoch 144/150\n",
      "250/250 [==============================] - 1s 3ms/step - loss: 0.3327 - accuracy: 0.8659\n",
      "Epoch 145/150\n",
      "250/250 [==============================] - 1s 3ms/step - loss: 0.3330 - accuracy: 0.8641\n",
      "Epoch 146/150\n",
      "250/250 [==============================] - 1s 2ms/step - loss: 0.3339 - accuracy: 0.8646\n",
      "Epoch 147/150\n",
      "250/250 [==============================] - 1s 3ms/step - loss: 0.3338 - accuracy: 0.8630\n",
      "Epoch 148/150\n",
      "250/250 [==============================] - 1s 3ms/step - loss: 0.3330 - accuracy: 0.8633\n",
      "Epoch 149/150\n",
      "250/250 [==============================] - 1s 3ms/step - loss: 0.3332 - accuracy: 0.8635\n",
      "Epoch 150/150\n",
      "250/250 [==============================] - 1s 2ms/step - loss: 0.3332 - accuracy: 0.8656\n"
     ]
    },
    {
     "data": {
      "text/plain": [
       "<keras.src.callbacks.History at 0x1e775c69850>"
      ]
     },
     "execution_count": 94,
     "metadata": {},
     "output_type": "execute_result"
    }
   ],
   "source": [
    "ann.fit(X_train,y_train,batch_size=32, epochs = 150)     # batch_size -> no of sample in each minibatch\n",
    "                                                        # epochs -> number of times the whole trainning set feeded"
   ]
  },
  {
   "cell_type": "code",
   "execution_count": 95,
   "id": "c9313464",
   "metadata": {},
   "outputs": [
    {
     "name": "stdout",
     "output_type": "stream",
     "text": [
      "63/63 [==============================] - 0s 3ms/step\n",
      "[[0.19080459]\n",
      " [0.29077554]\n",
      " [0.15004715]\n",
      " ...\n",
      " [0.11529376]\n",
      " [0.18518461]\n",
      " [0.13495155]]\n"
     ]
    }
   ],
   "source": [
    "print(ann.predict(X_test))"
   ]
  },
  {
   "cell_type": "code",
   "execution_count": 97,
   "id": "181e560f",
   "metadata": {},
   "outputs": [
    {
     "name": "stdout",
     "output_type": "stream",
     "text": [
      "63/63 [==============================] - 0s 2ms/step\n"
     ]
    }
   ],
   "source": [
    "y_pred=ann.predict(X_test)     \n",
    "y_pred=(y_pred>0.5)           "
   ]
  },
  {
   "cell_type": "code",
   "execution_count": 98,
   "id": "61250474",
   "metadata": {},
   "outputs": [],
   "source": [
    "from sklearn.metrics import confusion_matrix, accuracy_score "
   ]
  },
  {
   "cell_type": "code",
   "execution_count": 100,
   "id": "12bccd81",
   "metadata": {},
   "outputs": [
    {
     "name": "stdout",
     "output_type": "stream",
     "text": [
      "[[1521   74]\n",
      " [ 197  208]]\n",
      "accuracy score = 0.8645\n"
     ]
    }
   ],
   "source": [
    "cm = confusion_matrix(y_test,y_pred)\n",
    "print(cm)\n",
    "print(f\"accuracy score = {accuracy_score(y_test,y_pred)}\")"
   ]
  },
  {
   "cell_type": "code",
   "execution_count": null,
   "id": "971c6f4a",
   "metadata": {},
   "outputs": [],
   "source": [
    "# with no of neurons in hidden layer = 6 -> 86% accuracy\n",
    "# with no of neurons in hidden layer = 10 -> 85% accuracy\n",
    "# with increasing no of epochs for neurons 6 still same "
   ]
  }
 ],
 "metadata": {
  "kernelspec": {
   "display_name": "Python 3 (ipykernel)",
   "language": "python",
   "name": "python3"
  },
  "language_info": {
   "codemirror_mode": {
    "name": "ipython",
    "version": 3
   },
   "file_extension": ".py",
   "mimetype": "text/x-python",
   "name": "python",
   "nbconvert_exporter": "python",
   "pygments_lexer": "ipython3",
   "version": "3.9.13"
  }
 },
 "nbformat": 4,
 "nbformat_minor": 5
}
